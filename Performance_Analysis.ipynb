{
 "cells": [
  {
   "cell_type": "code",
   "execution_count": 12,
   "metadata": {},
   "outputs": [],
   "source": [
    "import openpyxl\n",
    "import psutil\n",
    "import os\n",
    "import datetime\n",
    "import time\n",
    "import threading\n",
    "import functools\n",
    "import pandas as pd\n",
    "import matplotlib.pyplot as plt\n",
    "# xlrd, need to be installed"
   ]
  },
  {
   "cell_type": "code",
   "execution_count": 2,
   "metadata": {},
   "outputs": [],
   "source": [
    "def singleton(class_):\n",
    "    instances = {}\n",
    "    def getinstance(*args, **kwargs):\n",
    "        if class_ not in instances:\n",
    "            instances[class_] = class_(*args, **kwargs)\n",
    "        return instances[class_]\n",
    "    return getinstance\n",
    "\n",
    "\n",
    "def timeit(func):\n",
    "    def wrapper(*args, **kwargs):\n",
    "        start = time.perf_counter()\n",
    "        value = func(*args, **kwargs)\n",
    "        stop = time.perf_counter()\n",
    "        print(f'\\nHas been running for {round(stop-start, 2)} seconds.')\n",
    "        return value\n",
    "    return wrapper"
   ]
  },
  {
   "cell_type": "code",
   "execution_count": 3,
   "metadata": {},
   "outputs": [
    {
     "name": "stdout",
     "output_type": "stream",
     "text": [
      "Sleep for 1 seconds...\n",
      "Done sleeping 1 seconds...\n",
      "\n",
      "Has been running for 1.01 seconds.\n"
     ]
    }
   ],
   "source": [
    "@timeit\n",
    "def do_something(seconds=1):\n",
    "    print(f'Sleep for {seconds} seconds...')\n",
    "    time.sleep(seconds)\n",
    "    print(f'Done sleeping {seconds} seconds...')\n",
    "\n",
    "do_something()"
   ]
  },
  {
   "cell_type": "code",
   "execution_count": 4,
   "metadata": {},
   "outputs": [
    {
     "name": "stdout",
     "output_type": "stream",
     "text": [
      "Running 4 threads.\n",
      "\n",
      "Sleep for 4 seconds...\n",
      "Sleep for 3 seconds...\n",
      "Sleep for 2 seconds...\n",
      "Sleep for 1 seconds...\n",
      "Done sleeping 1 seconds...\n",
      "Done sleeping 2 seconds...\n",
      "Done sleeping 3 seconds...\n",
      "Done sleeping 4 seconds...\n",
      "\n",
      "Has been running for 4.01 seconds.\n"
     ]
    }
   ],
   "source": [
    "def do_something(seconds=1):\n",
    "    print(f'Sleep for {seconds} seconds...')\n",
    "    time.sleep(seconds)\n",
    "    print(f'Done sleeping {seconds} seconds...')\n",
    "    \n",
    "\n",
    "@timeit\n",
    "def run_threads():\n",
    "    n = 4\n",
    "    threads = [threading.Thread(target=do_something, args=(s,), kwargs=None) for s in range(n, 0, -1)]\n",
    "    print(f'Running {len(threads)} threads.\\n')\n",
    "    \n",
    "    for t in threads:\n",
    "        t.start()\n",
    "    \n",
    "    for t in threads:\n",
    "        t.join()\n",
    "\n",
    "run_threads()"
   ]
  },
  {
   "cell_type": "code",
   "execution_count": 5,
   "metadata": {},
   "outputs": [],
   "source": [
    "@singleton\n",
    "class Excel():\n",
    "    \n",
    "    \n",
    "    def __init__(self,):\n",
    "        print('Singleton Class')\n",
    "        self.file = False\n",
    "        self.path = False\n",
    "        \n",
    "        \n",
    "    def create(self, path):\n",
    "        file = openpyxl.Workbook()\n",
    "        file.save(path)\n",
    "    \n",
    "    \n",
    "    def from_path(self, path):\n",
    "        self.path = path\n",
    "        self.file = openpyxl.load_workbook(path)\n",
    "        self.sheet = self.file.active\n",
    "        self.__assert_file__()\n",
    "        \n",
    "        \n",
    "    def __assert_file__(self):\n",
    "        assert self.file, \"No excel file found... load excel file!\"\n",
    "        \n",
    "        \n",
    "    def create_columns_names(self, column_names):\n",
    "        self.__assert_file__()\n",
    "        XLSX_COLUMNS = list('abcdefghijklmnopqrstuvwxyz'.upper())\n",
    "        sheet = self.file.active\n",
    "        for idx, name in enumerate(column_names):\n",
    "            sheet[f\"{XLSX_COLUMNS[idx]}1\"] = name\n",
    "         \n",
    "        \n",
    "    def append_row(self, row):\n",
    "        self.__assert_file__()\n",
    "        self.sheet.append(row)\n",
    "        \n",
    "        \n",
    "    def save(self):\n",
    "        self.__assert_file__()\n",
    "        self.file.save(self.path)\n",
    "        "
   ]
  },
  {
   "cell_type": "code",
   "execution_count": 6,
   "metadata": {},
   "outputs": [
    {
     "name": "stdout",
     "output_type": "stream",
     "text": [
      "Singleton Class\n",
      "Excel opened from path \"./CPU_performance.xlsx\".\n"
     ]
    }
   ],
   "source": [
    "filename = 'CPU_performance.xlsx'\n",
    "path = os.path.join(os.curdir, filename)\n",
    "excel = Excel()\n",
    "\n",
    "if filename not in os.listdir():\n",
    "    excel.create(path)\n",
    "\n",
    "excel.from_path(path)\n",
    "print(f'Excel opened from path \"{excel.path}\".')"
   ]
  },
  {
   "cell_type": "code",
   "execution_count": 7,
   "metadata": {},
   "outputs": [
    {
     "name": "stdout",
     "output_type": "stream",
     "text": [
      "There is 16 logical CPU(s) available.\n",
      "Excel saved on path \"./CPU_performance.xlsx\".\n"
     ]
    }
   ],
   "source": [
    "n_cpu_logical = psutil.cpu_count(logical=True)\n",
    "print(f'There is {n_cpu_logical} logical CPU(s) available.')\n",
    "\n",
    "column_names = [f'CPU {idx+1}' for idx in range(n_cpu_logical)]\n",
    "column_names.append('Datetime')\n",
    "\n",
    "excel.create_columns_names(column_names)\n",
    "excel.save()\n",
    "print(f'Excel saved on path \"{excel.path}\".')"
   ]
  },
  {
   "cell_type": "code",
   "execution_count": 8,
   "metadata": {},
   "outputs": [
    {
     "name": "stdout",
     "output_type": "stream",
     "text": [
      "appended row...\n",
      "appended row...\n",
      "appended row...\n",
      "appended row...\n",
      "Excel saved on path \"./CPU_performance.xlsx\".\n"
     ]
    }
   ],
   "source": [
    "n_observations = 4\n",
    "\n",
    "for _ in range(n_observations):\n",
    "    date = datetime.datetime.now().strftime(\"%H:%M:%S %d/%m/%Y\")\n",
    "    perc = psutil.cpu_percent(interval=1, percpu=True)\n",
    "    perc.append(date)\n",
    "    excel.append_row(perc)\n",
    "    print('appended row...')\n",
    "\n",
    "excel.save()\n",
    "print(f'Excel saved on path \"{excel.path}\".')"
   ]
  },
  {
   "cell_type": "markdown",
   "metadata": {},
   "source": [
    "---"
   ]
  },
  {
   "cell_type": "code",
   "execution_count": 9,
   "metadata": {},
   "outputs": [],
   "source": [
    "def cpu_performance(func):\n",
    "    countdown = 2\n",
    "        \n",
    "    def measure_cpu_performance(event, excel):\n",
    "        event.wait()\n",
    "        print('Recording!')\n",
    "        while event.is_set():\n",
    "            date = datetime.datetime.now().strftime(\"%H:%M:%S %d/%m/%Y\")\n",
    "            perc = psutil.cpu_percent(interval=1, percpu=True)\n",
    "            perc.append(date)\n",
    "            excel.append_row(perc)\n",
    "            print(f'*{date} appended row...')\n",
    "        \n",
    "    @functools.wraps(func)    \n",
    "    def wrapper(*args, **kwargs):\n",
    "        ######################################################\n",
    "        # Load excel\n",
    "        filename = 'CPU_performance.xlsx'\n",
    "        path = os.path.join(os.curdir, filename)\n",
    "        excel = Excel()\n",
    "\n",
    "        if filename not in os.listdir():\n",
    "            excel.create(path)\n",
    "\n",
    "        excel.from_path(path)\n",
    "        print(f'Excel opened from path \"{excel.path}\".')\n",
    "        ######################################################\n",
    "        # Set columns\n",
    "        n_cpu_logical = psutil.cpu_count(logical=True)\n",
    "        print(f'There is {n_cpu_logical} logical CPU(s) available.')\n",
    "\n",
    "        column_names = [f'CPU {idx+1}' for idx in range(n_cpu_logical)]\n",
    "        column_names.append('Datetime')\n",
    "\n",
    "        excel.create_columns_names(column_names)\n",
    "        excel.save()\n",
    "        print(f'Excel saved on path \"{excel.path}\".')\n",
    "        ######################################################\n",
    "        # Run thread\n",
    "        event = threading.Event()\n",
    "        event.set()\n",
    "        t = threading.Thread(target=measure_cpu_performance, name='thread_cpu_performance', kwargs={'event':event, 'excel':excel})\n",
    "        t.start()\n",
    "        time.sleep(3)\n",
    "        \n",
    "        #########\n",
    "        #########\n",
    "        print(func.__name__)\n",
    "        value = func(*args, **kwargs)\n",
    "        #########\n",
    "        #########\n",
    "        event.clear()\n",
    "        print('Stop recording!')\n",
    "        excel.save()\n",
    "        \n",
    "        \n",
    "        time.sleep(2)\n",
    "        \n",
    "        return value\n",
    "    return wrapper"
   ]
  },
  {
   "cell_type": "code",
   "execution_count": 10,
   "metadata": {},
   "outputs": [
    {
     "name": "stdout",
     "output_type": "stream",
     "text": [
      "Excel opened from path \"./CPU_performance.xlsx\".\n",
      "There is 16 logical CPU(s) available.\n",
      "Excel saved on path \"./CPU_performance.xlsx\".\n",
      "Recording!\n",
      "*11:21:09 05/11/2020 appended row...\n",
      "*11:21:10 05/11/2020 appended row...\n",
      "do_something\n",
      "Sleep for 4 seconds...\n",
      "*11:21:11 05/11/2020 appended row...\n",
      "*11:21:12 05/11/2020 appended row...\n",
      "*11:21:13 05/11/2020 appended row...\n",
      "*11:21:14 05/11/2020 appended row...\n",
      "Done sleeping 4 seconds...\n",
      "Stop recording!\n",
      "*11:21:15 05/11/2020 appended row...\n",
      "\n",
      "Has been running for 9.08 seconds.\n"
     ]
    }
   ],
   "source": [
    "@timeit\n",
    "@cpu_performance\n",
    "def do_something(seconds=1):\n",
    "    print(f'Sleep for {seconds} seconds...')\n",
    "    time.sleep(seconds)\n",
    "    print(f'Done sleeping {seconds} seconds...')\n",
    "    \n",
    "do_something(4)"
   ]
  },
  {
   "cell_type": "code",
   "execution_count": 31,
   "metadata": {},
   "outputs": [
    {
     "data": {
      "text/plain": [
       "[]"
      ]
     },
     "execution_count": 31,
     "metadata": {},
     "output_type": "execute_result"
    },
    {
     "data": {
      "image/png": "[encoded data removed]",
      "text/plain": [
       "<Figure size 720x360 with 1 Axes>"
      ]
     },
     "metadata": {
      "needs_background": "light"
     },
     "output_type": "display_data"
    }
   ],
   "source": [
    "df = pd.read_excel(path, index_col='Datetime')\n",
    "df.plot(kind='line', figsize=(10, 5), ylim=(0, 100))\n",
    "plt.xticks(rotation=10)\n",
    "plt.plot()"
   ]
  },
  {
   "cell_type": "markdown",
   "metadata": {},
   "source": [
    "### Flask app"
   ]
  },
  {
   "cell_type": "code",
   "execution_count": null,
   "metadata": {},
   "outputs": [],
   "source": [
    "from flask import Flask\n",
    "app = Flask(__name__)\n",
    "\n",
    "\n",
    "@app.route('/')\n",
    "def hello():\n",
    "    return \"Hello World!\"\n",
    "\n",
    "app.run()"
   ]
  },
  {
   "cell_type": "markdown",
   "metadata": {},
   "source": [
    "## 00 Initialization"
   ]
  },
  {
   "cell_type": "markdown",
   "metadata": {},
   "source": [
    "---\n",
    "#### a) Jupyter Notebook\n"
   ]
  },
  {
   "cell_type": "code",
   "execution_count": null,
   "metadata": {},
   "outputs": [],
   "source": [
    "!jupyter kernelspec list"
   ]
  },
  {
   "cell_type": "markdown",
   "metadata": {},
   "source": [
    "#### b) Check executable python path"
   ]
  },
  {
   "cell_type": "code",
   "execution_count": null,
   "metadata": {},
   "outputs": [],
   "source": [
    "import sys"
   ]
  },
  {
   "cell_type": "code",
   "execution_count": null,
   "metadata": {},
   "outputs": [],
   "source": [
    "print(sys.executable)"
   ]
  },
  {
   "cell_type": "markdown",
   "metadata": {},
   "source": [
    "#### c) Where all dependencies are"
   ]
  },
  {
   "cell_type": "code",
   "execution_count": 4,
   "metadata": {},
   "outputs": [
    {
     "name": "stdout",
     "output_type": "stream",
     "text": [
      "/Users/patryklaskowski/Desktop/Computer_Vision\n",
      "/Library/Frameworks/Python.framework/Versions/3.7/lib/python37.zip\n",
      "/Library/Frameworks/Python.framework/Versions/3.7/lib/python3.7\n",
      "/Library/Frameworks/Python.framework/Versions/3.7/lib/python3.7/lib-dynload\n",
      "\n",
      "/Users/patryklaskowski/Desktop/Computer_Vision/env/lib/python3.7/site-packages\n",
      "/Users/patryklaskowski/Desktop/Computer_Vision/env/lib/python3.7/site-packages/IPython/extensions\n",
      "/Users/patryklaskowski/.ipython\n"
     ]
    }
   ],
   "source": [
    "for path in sys.path:\n",
    "    print(path) "
   ]
  },
  {
   "cell_type": "markdown",
   "metadata": {},
   "source": [
    "I want to know\n",
    "- how much of each cpu is used while running script,\n",
    "- how much network is used while running script,\n",
    "- how much memory is used while running script,\n",
    "\n",
    "All of above i want to encapsulate in a single simple decorator."
   ]
  },
  {
   "cell_type": "markdown",
   "metadata": {},
   "source": [
    "---\n",
    "#### Import libraries"
   ]
  },
  {
   "cell_type": "code",
   "execution_count": 7,
   "metadata": {},
   "outputs": [],
   "source": [
    "import psutil\n",
    "import time\n",
    "import functools\n",
    "import numpy as np\n",
    "import matplotlib.pyplot as plt"
   ]
  },
  {
   "cell_type": "markdown",
   "metadata": {},
   "source": [
    "#### Current cpu usage per cpu"
   ]
  },
  {
   "cell_type": "code",
   "execution_count": 12,
   "metadata": {},
   "outputs": [
    {
     "data": {
      "image/png": "[encoded data removed]",
      "text/plain": [
       "<Figure size 720x144 with 1 Axes>"
      ]
     },
     "metadata": {
      "needs_background": "light"
     },
     "output_type": "display_data"
    }
   ],
   "source": [
    "def plot_current_per_cpu_percent():\n",
    "    perc = psutil.cpu_percent(interval=2, percpu=True)\n",
    "    \n",
    "    color = 'blue'\n",
    "    x = range(1, len(perc)+1)\n",
    "    tick_label = [f'#{i}' for i in x]\n",
    "\n",
    "    plt.figure(figsize=(10, 2))\n",
    "    plt.bar(x, np.zeros((len(perc)))+100, color=color, alpha=0.1, tick_label=tick_label)\n",
    "    plt.bar(x, perc, color=color)\n",
    "    plt.ylabel('CPU%Usage')\n",
    "    plt.xlabel('CPU#Idx')\n",
    "    plt.plot()\n",
    "\n",
    "plot_current_per_cpu_percent()"
   ]
  },
  {
   "cell_type": "code",
   "execution_count": 16,
   "metadata": {},
   "outputs": [
    {
     "name": "stdout",
     "output_type": "stream",
     "text": [
      "MEMORY\n",
      "------\n",
      "Total      :   16.0G\n",
      "Available  :    5.7G\n",
      "Percent    :    64.4\n",
      "Used       :    8.1G\n",
      "Free       :  429.1M\n",
      "Active     :    5.3G\n",
      "Inactive   :    5.0G\n",
      "Wired      :    2.8G\n",
      "\n",
      "SWAP\n",
      "----\n",
      "Total      :    2.0G\n",
      "Used       :  884.5M\n",
      "Free       :    1.1G\n",
      "Percent    :    43.2\n",
      "Sin        :  161.6G\n",
      "Sout       :  485.9M\n"
     ]
    }
   ],
   "source": [
    "from psutil._common import bytes2human\n",
    "\n",
    "\n",
    "def pprint_ntuple(nt):\n",
    "    for name in nt._fields:\n",
    "        value = getattr(nt, name)\n",
    "        if name != 'percent':\n",
    "            value = bytes2human(value)\n",
    "        print('%-10s : %7s' % (name.capitalize(), value))\n",
    "\n",
    "\n",
    "def main():\n",
    "    print('MEMORY\\n------')\n",
    "    pprint_ntuple(psutil.virtual_memory())\n",
    "    print('\\nSWAP\\n----')\n",
    "    pprint_ntuple(psutil.swap_memory())\n",
    "    \n",
    "main()"
   ]
  },
  {
   "cell_type": "code",
   "execution_count": 18,
   "metadata": {},
   "outputs": [
    {
     "data": {
      "text/plain": [
       "snetio(bytes_sent=4436720640, bytes_recv=77458838528, packets_sent=36904254, packets_recv=60860445, errin=0, errout=134685, dropin=0, dropout=0)"
      ]
     },
     "execution_count": 18,
     "metadata": {},
     "output_type": "execute_result"
    }
   ],
   "source": [
    "psutil.net_io_counters.cache_clear()\n",
    "psutil.net_io_counters()"
   ]
  },
  {
   "cell_type": "code",
   "execution_count": 20,
   "metadata": {},
   "outputs": [
    {
     "name": "stdout",
     "output_type": "stream",
     "text": [
      "psutil.Process(pid=31535, name='Python', status='running', started='00:05:59')\n"
     ]
    }
   ],
   "source": [
    "for idx, process in enumerate(psutil.process_iter()):\n",
    "    if process.pid == os.getpid():\n",
    "        print(process)"
   ]
  },
  {
   "cell_type": "markdown",
   "metadata": {},
   "source": [
    "---\n",
    "#### Decorators"
   ]
  },
  {
   "cell_type": "markdown",
   "metadata": {},
   "source": [
    "- [ ] timeit : mierzy czas, zwraca słownik "
   ]
  },
  {
   "cell_type": "code",
   "execution_count": 36,
   "metadata": {},
   "outputs": [],
   "source": [
    "def timeit(func):\n",
    "    @functools.wraps(func)\n",
    "    def wrapper(*args, **kwargs):\n",
    "        start = time.perf_counter()\n",
    "        value = func(*args, **kwargs)\n",
    "        stop = time.perf_counter()\n",
    "        elapsed = round(stop - start, 2)\n",
    "        print(f'Funcion \"{func.__name__}({args, kwargs})\" has been running for {elapsed} seconds.')\n",
    "        return\n",
    "    return wrapper"
   ]
  },
  {
   "cell_type": "code",
   "execution_count": 49,
   "metadata": {},
   "outputs": [
    {
     "name": "stdout",
     "output_type": "stream",
     "text": [
      "Sleeping for 0.5 s.\n",
      "Done sleeping for 0.5 s.\n"
     ]
    }
   ],
   "source": [
    "# @timeit\n",
    "def do_something(seconds:int=0.5):\n",
    "    print(f'Sleeping for {seconds} s.')\n",
    "    time.sleep(seconds)\n",
    "    print(f'Done sleeping for {seconds} s.')\n",
    "    \n",
    "do_something()"
   ]
  },
  {
   "cell_type": "markdown",
   "metadata": {},
   "source": [
    "#### CPU Count"
   ]
  },
  {
   "cell_type": "code",
   "execution_count": 56,
   "metadata": {},
   "outputs": [
    {
     "name": "stdout",
     "output_type": "stream",
     "text": [
      "There is 8 physical CPU(s) available.\n",
      "There is 16 logical CPU(s) available.\n"
     ]
    }
   ],
   "source": [
    "n_cpu_physical = psutil.cpu_count(logical=False)\n",
    "n_cpu_logical = psutil.cpu_count(logical=True)\n",
    "\n",
    "print(f'There is {n_cpu_physical} physical CPU(s) available.')\n",
    "print(f'There is {n_cpu_logical} logical CPU(s) available.')"
   ]
  },
  {
   "cell_type": "markdown",
   "metadata": {},
   "source": [
    "---\n",
    "#### CPU usage"
   ]
  },
  {
   "cell_type": "code",
   "execution_count": 33,
   "metadata": {},
   "outputs": [],
   "source": [
    "def plot_timeseries(timeseries:list):\n",
    "    plt.figure(figsize=(16, 4))\n",
    "\n",
    "    n_time_intervals, n_cores = timeseries.shape\n",
    "    x = list(range(n_time_intervals))\n",
    "\n",
    "    for i in range(n_cores):\n",
    "        plt.plot(x, timeseries[:, i], label=f'core {i+1}', marker='o')\n",
    "\n",
    "    plt.ylim(0, 100)\n",
    "    plt.yticks(range(0, 100+1, 10))\n",
    "    plt.xticks(range(0, n_time_intervals, 1))\n",
    "    plt.grid(axis='y')\n",
    "    plt.legend()\n",
    "    plt.plot()"
   ]
  },
  {
   "cell_type": "code",
   "execution_count": 35,
   "metadata": {
    "scrolled": true
   },
   "outputs": [
    {
     "ename": "SyntaxError",
     "evalue": "invalid syntax (<ipython-input-35-8f0f9eb21a34>, line 13)",
     "output_type": "error",
     "traceback": [
      "\u001b[0;36m  File \u001b[0;32m\"<ipython-input-35-8f0f9eb21a34>\"\u001b[0;36m, line \u001b[0;32m13\u001b[0m\n\u001b[0;31m    print(f'\\nTimeseries shape: {timeseries['value'].shape}')\u001b[0m\n\u001b[0m                                                 ^\u001b[0m\n\u001b[0;31mSyntaxError\u001b[0m\u001b[0;31m:\u001b[0m invalid syntax\n"
     ]
    }
   ],
   "source": [
    "interval = 1 #s\n",
    "n = 5\n",
    "\n",
    "@timeit\n",
    "def cpu_percent(interval, n=5):\n",
    "    timeseries = []\n",
    "    for _ in range(n):\n",
    "        timeseries.append(psutil.cpu_percent(interval, percpu=True))\n",
    "    return np.array(timeseries)\n",
    "        \n",
    "        \n",
    "timeseries = cpu_percent(interval, n)\n",
    "print(f'\\nTimeseries shape: {timeseries['value'].shape}')\n",
    "\n",
    "plot_timeseries(timeseries)"
   ]
  },
  {
   "cell_type": "code",
   "execution_count": 59,
   "metadata": {},
   "outputs": [],
   "source": [
    "def performance(func):\n",
    "\n",
    "    @timeit\n",
    "    @functools.wraps(func)\n",
    "    def wrapper(*args, **kwargs):\n",
    "        \n",
    "#         start = time.perf_counter()\n",
    "        \n",
    "        value = func(*args, **kwargs)\n",
    "        \n",
    "#         stop = time.perf_counter()\n",
    "#         print(f'Funcion \"{func.__name__}({args, kwargs})\" has been running for {round(stop - start, 2)} seconds.')\n",
    "        \n",
    "        return value\n",
    "    return wrapper"
   ]
  },
  {
   "cell_type": "code",
   "execution_count": 61,
   "metadata": {},
   "outputs": [
    {
     "name": "stdout",
     "output_type": "stream",
     "text": [
      "Funcion \"func(((), {}))\" has been running for 2.0 seconds.\n"
     ]
    }
   ],
   "source": [
    "@performance\n",
    "def func():\n",
    "    time.sleep(2)\n",
    "    \n",
    "func()"
   ]
  },
  {
   "cell_type": "code",
   "execution_count": null,
   "metadata": {},
   "outputs": [],
   "source": []
  }
 ],
 "metadata": {
  "kernelspec": {
   "display_name": "Computer_Vision_Kernel",
   "language": "python",
   "name": "computer_vision_kernel"
  },
  "language_info": {
   "codemirror_mode": {
    "name": "ipython",
    "version": 3
   },
   "file_extension": ".py",
   "mimetype": "text/x-python",
   "name": "python",
   "nbconvert_exporter": "python",
   "pygments_lexer": "ipython3",
   "version": "3.7.9"
  }
 },
 "nbformat": 4,
 "nbformat_minor": 4
}
